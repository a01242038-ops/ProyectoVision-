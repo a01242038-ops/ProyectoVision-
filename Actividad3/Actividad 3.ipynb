{
 "cells": [
  {
   "cell_type": "code",
   "execution_count": 1,
   "id": "b28e22e3",
   "metadata": {},
   "outputs": [],
   "source": [
    "#Librerias necesarias\n",
    "import numpy as np\n",
    "import matplotlib.pyplot as plt\n",
    "import pickle\n",
    "from sklearn.model_selection import train_test_split\n",
    "from sklearn.metrics import classification_report, accuracy_score\n",
    "from keras.models import Sequential\n",
    "from keras.layers import Dense, Flatten, Conv2D, MaxPooling2D, Dropout\n",
    "from keras.utils import to_categorical"
   ]
  },
  {
   "cell_type": "code",
   "execution_count": 3,
   "id": "c193297a",
   "metadata": {},
   "outputs": [
    {
     "name": "stdout",
     "output_type": "stream",
     "text": [
      "Shape X: (2530, 32, 32)\n",
      "Shape y: (2530,)\n"
     ]
    }
   ],
   "source": [
    "# Cargar datos preprocesados\n",
    "with open('preprocessed_emojis.pkl', 'rb') as f:\n",
    "    data = pickle.load(f)\n",
    "X = np.array([img for img, label in data])  # numpy array (N, H, W)\n",
    "y = np.array([label for img, label in data])  # numpy array (N,)\n",
    "print('Shape X:', X.shape)\n",
    "print('Shape y:', y.shape)"
   ]
  },
  {
   "cell_type": "code",
   "execution_count": 4,
   "id": "da5ce28f",
   "metadata": {},
   "outputs": [
    {
     "name": "stdout",
     "output_type": "stream",
     "text": [
      "Shape X_bin: (2530, 32, 32)\n"
     ]
    }
   ],
   "source": [
    "# Si las imágenes no son binarias ni 32x32, procesarlas\n",
    "import cv2\n",
    "def preprocess_image(img):\n",
    "    # Convertir a escala de grises\n",
    "    if img.ndim == 3:\n",
    "        img = cv2.cvtColor(img, cv2.COLOR_RGB2GRAY)\n",
    "    # Binarizar\n",
    "    _, img_bin = cv2.threshold(img, 0, 1, cv2.THRESH_BINARY + cv2.THRESH_OTSU)\n",
    "    # Encontrar contornos\n",
    "    contours, _ = cv2.findContours((img_bin*255).astype(np.uint8), cv2.RETR_EXTERNAL, cv2.CHAIN_APPROX_SIMPLE)\n",
    "    if len(contours) == 0:\n",
    "        return np.zeros((32,32), dtype=np.uint8)\n",
    "    x, y, w, h = cv2.boundingRect(np.vstack(contours))\n",
    "    emoji_crop = img_bin[y:y+h, x:x+w]\n",
    "    # Redimensionar manteniendo aspecto\n",
    "    scale = 32.0 / max(h, w)\n",
    "    emoji_resized = cv2.resize(emoji_crop, (int(w*scale), int(h*scale)), interpolation=cv2.INTER_NEAREST)\n",
    "    # Centrar\n",
    "    out = np.zeros((32,32), dtype=np.uint8)\n",
    "    y_off = (32 - emoji_resized.shape[0]) // 2\n",
    "    x_off = (32 - emoji_resized.shape[1]) // 2\n",
    "    out[y_off:y_off+emoji_resized.shape[0], x_off:x_off+emoji_resized.shape[1]] = emoji_resized\n",
    "    return out\n",
    "\n",
    "X_bin = np.array([preprocess_image(img) for img in X])\n",
    "print('Shape X_bin:', X_bin.shape)"
   ]
  },
  {
   "cell_type": "code",
   "execution_count": 5,
   "id": "4ff1f322",
   "metadata": {},
   "outputs": [
    {
     "name": "stdout",
     "output_type": "stream",
     "text": [
      "Train: (2024, 32, 32) (2024,)\n",
      "Test: (506, 32, 32) (506,)\n"
     ]
    }
   ],
   "source": [
    "# Dividir datos\n",
    "X_train, X_test, y_train, y_test = train_test_split(X_bin, y, test_size=0.2, random_state=42, stratify=y)\n",
    "print('Train:', X_train.shape, y_train.shape)\n",
    "print('Test:', X_test.shape, y_test.shape)"
   ]
  },
  {
   "cell_type": "code",
   "execution_count": 7,
   "id": "255a087b",
   "metadata": {},
   "outputs": [
    {
     "name": "stdout",
     "output_type": "stream",
     "text": [
      "Epoch 1/20\n"
     ]
    },
    {
     "name": "stderr",
     "output_type": "stream",
     "text": [
      "c:\\Users\\lizda\\AppData\\Local\\Programs\\Python\\Python313\\Lib\\site-packages\\keras\\src\\layers\\core\\dense.py:92: UserWarning: Do not pass an `input_shape`/`input_dim` argument to a layer. When using Sequential models, prefer using an `Input(shape)` object as the first layer in the model instead.\n",
      "  super().__init__(activity_regularizer=activity_regularizer, **kwargs)\n"
     ]
    },
    {
     "name": "stdout",
     "output_type": "stream",
     "text": [
      "57/57 - 1s - 14ms/step - accuracy: 0.5755 - loss: 1.0164 - val_accuracy: 0.6847 - val_loss: 0.8177\n",
      "Epoch 2/20\n",
      "57/57 - 0s - 3ms/step - accuracy: 0.7787 - loss: 0.5992 - val_accuracy: 0.7192 - val_loss: 0.7524\n",
      "Epoch 3/20\n",
      "57/57 - 0s - 3ms/step - accuracy: 0.8556 - loss: 0.4023 - val_accuracy: 0.7438 - val_loss: 0.6749\n",
      "Epoch 4/20\n",
      "57/57 - 0s - 3ms/step - accuracy: 0.8995 - loss: 0.2885 - val_accuracy: 0.7438 - val_loss: 0.7488\n",
      "Epoch 5/20\n",
      "57/57 - 0s - 3ms/step - accuracy: 0.9368 - loss: 0.1979 - val_accuracy: 0.7537 - val_loss: 0.7345\n",
      "Epoch 6/20\n",
      "57/57 - 0s - 3ms/step - accuracy: 0.9632 - loss: 0.1390 - val_accuracy: 0.7537 - val_loss: 0.7520\n",
      "Epoch 7/20\n",
      "57/57 - 0s - 3ms/step - accuracy: 0.9709 - loss: 0.1076 - val_accuracy: 0.7537 - val_loss: 0.8124\n",
      "Epoch 8/20\n",
      "57/57 - 0s - 3ms/step - accuracy: 0.9808 - loss: 0.0789 - val_accuracy: 0.7488 - val_loss: 0.8280\n",
      "Epoch 9/20\n",
      "57/57 - 0s - 3ms/step - accuracy: 0.9835 - loss: 0.0669 - val_accuracy: 0.7586 - val_loss: 0.8383\n",
      "Epoch 10/20\n",
      "57/57 - 0s - 3ms/step - accuracy: 0.9835 - loss: 0.0562 - val_accuracy: 0.7537 - val_loss: 0.9046\n",
      "Epoch 11/20\n",
      "57/57 - 0s - 3ms/step - accuracy: 0.9830 - loss: 0.0490 - val_accuracy: 0.7537 - val_loss: 0.9036\n",
      "Epoch 12/20\n",
      "57/57 - 0s - 3ms/step - accuracy: 0.9868 - loss: 0.0426 - val_accuracy: 0.7537 - val_loss: 0.9633\n",
      "Epoch 13/20\n",
      "57/57 - 0s - 3ms/step - accuracy: 0.9830 - loss: 0.0432 - val_accuracy: 0.7635 - val_loss: 0.9404\n",
      "Epoch 14/20\n",
      "57/57 - 0s - 3ms/step - accuracy: 0.9846 - loss: 0.0405 - val_accuracy: 0.7438 - val_loss: 0.9968\n",
      "Epoch 15/20\n",
      "57/57 - 0s - 6ms/step - accuracy: 0.9857 - loss: 0.0340 - val_accuracy: 0.7241 - val_loss: 0.9862\n",
      "Epoch 16/20\n",
      "57/57 - 0s - 3ms/step - accuracy: 0.9863 - loss: 0.0301 - val_accuracy: 0.7488 - val_loss: 1.0139\n",
      "Epoch 17/20\n",
      "57/57 - 0s - 3ms/step - accuracy: 0.9841 - loss: 0.0344 - val_accuracy: 0.7586 - val_loss: 1.0290\n",
      "Epoch 18/20\n",
      "57/57 - 0s - 3ms/step - accuracy: 0.9852 - loss: 0.0314 - val_accuracy: 0.7685 - val_loss: 1.0350\n",
      "Epoch 19/20\n",
      "57/57 - 0s - 6ms/step - accuracy: 0.9857 - loss: 0.0282 - val_accuracy: 0.7685 - val_loss: 1.0312\n",
      "Epoch 20/20\n",
      "57/57 - 0s - 5ms/step - accuracy: 0.9857 - loss: 0.0299 - val_accuracy: 0.7635 - val_loss: 1.0250\n",
      "\u001b[1m16/16\u001b[0m \u001b[32m━━━━━━━━━━━━━━━━━━━━\u001b[0m\u001b[37m\u001b[0m \u001b[1m0s\u001b[0m 3ms/step \n",
      "MLP Accuracy: 0.808300395256917\n",
      "              precision    recall  f1-score   support\n",
      "\n",
      "       Angry       0.70      0.61      0.65       101\n",
      "       Happy       0.83      0.83      0.83       102\n",
      "         Poo       1.00      0.99      1.00       101\n",
      "         Sad       0.66      0.75      0.70       101\n",
      "   Surprised       0.88      0.85      0.86       101\n",
      "\n",
      "    accuracy                           0.81       506\n",
      "   macro avg       0.81      0.81      0.81       506\n",
      "weighted avg       0.81      0.81      0.81       506\n",
      "\n"
     ]
    }
   ],
   "source": [
    "# Preparar datos para MLP\n",
    "X_train_flat = X_train.reshape((X_train.shape[0], -1))\n",
    "X_test_flat = X_test.reshape((X_test.shape[0], -1))\n",
    "\n",
    "# Convertir etiquetas de string a índices\n",
    "classes = np.unique(y)\n",
    "class_to_idx = {cls: idx for idx, cls in enumerate(classes)}\n",
    "y_train_idx = np.array([class_to_idx[label] for label in y_train])\n",
    "y_test_idx = np.array([class_to_idx[label] for label in y_test])\n",
    "\n",
    "y_train_cat = to_categorical(y_train_idx)\n",
    "y_test_cat = to_categorical(y_test_idx)\n",
    "\n",
    "mlp = Sequential([\n",
    "    Dense(128, activation='relu', input_shape=(32*32,)),\n",
    "    Dense(64, activation='relu'),\n",
    "    Dense(y_train_cat.shape[1], activation='softmax')\n",
    "])\n",
    "mlp.compile(optimizer='adam', loss='categorical_crossentropy', metrics=['accuracy'])\n",
    "mlp.fit(X_train_flat, y_train_cat, epochs=20, batch_size=32, validation_split=0.1, verbose=2)\n",
    "\n",
    "y_pred_mlp = np.argmax(mlp.predict(X_test_flat), axis=1)\n",
    "print('MLP Accuracy:', accuracy_score(y_test_idx, y_pred_mlp))\n",
    "print(classification_report(y_test_idx, y_pred_mlp, target_names=classes))"
   ]
  },
  {
   "cell_type": "code",
   "execution_count": 9,
   "id": "f572e9df",
   "metadata": {},
   "outputs": [
    {
     "name": "stdout",
     "output_type": "stream",
     "text": [
      "Epoch 1/20\n"
     ]
    },
    {
     "name": "stderr",
     "output_type": "stream",
     "text": [
      "c:\\Users\\lizda\\AppData\\Local\\Programs\\Python\\Python313\\Lib\\site-packages\\keras\\src\\layers\\convolutional\\base_conv.py:113: UserWarning: Do not pass an `input_shape`/`input_dim` argument to a layer. When using Sequential models, prefer using an `Input(shape)` object as the first layer in the model instead.\n",
      "  super().__init__(activity_regularizer=activity_regularizer, **kwargs)\n"
     ]
    },
    {
     "name": "stdout",
     "output_type": "stream",
     "text": [
      "57/57 - 1s - 21ms/step - accuracy: 0.5722 - loss: 1.0723 - val_accuracy: 0.7537 - val_loss: 0.6171\n",
      "Epoch 2/20\n",
      "57/57 - 0s - 8ms/step - accuracy: 0.7727 - loss: 0.6009 - val_accuracy: 0.8374 - val_loss: 0.4213\n",
      "Epoch 3/20\n",
      "57/57 - 1s - 9ms/step - accuracy: 0.8418 - loss: 0.4231 - val_accuracy: 0.8670 - val_loss: 0.3297\n",
      "Epoch 4/20\n",
      "57/57 - 1s - 9ms/step - accuracy: 0.8688 - loss: 0.3304 - val_accuracy: 0.8473 - val_loss: 0.3162\n",
      "Epoch 5/20\n",
      "57/57 - 0s - 8ms/step - accuracy: 0.8896 - loss: 0.2768 - val_accuracy: 0.8719 - val_loss: 0.3089\n",
      "Epoch 6/20\n",
      "57/57 - 0s - 7ms/step - accuracy: 0.9154 - loss: 0.2237 - val_accuracy: 0.8768 - val_loss: 0.2427\n",
      "Epoch 7/20\n",
      "57/57 - 0s - 8ms/step - accuracy: 0.9242 - loss: 0.1993 - val_accuracy: 0.8571 - val_loss: 0.3066\n",
      "Epoch 8/20\n",
      "57/57 - 1s - 10ms/step - accuracy: 0.9396 - loss: 0.1549 - val_accuracy: 0.8966 - val_loss: 0.3028\n",
      "Epoch 9/20\n",
      "57/57 - 0s - 8ms/step - accuracy: 0.9412 - loss: 0.1534 - val_accuracy: 0.8916 - val_loss: 0.2279\n",
      "Epoch 10/20\n",
      "57/57 - 0s - 7ms/step - accuracy: 0.9555 - loss: 0.1253 - val_accuracy: 0.9212 - val_loss: 0.2057\n",
      "Epoch 11/20\n",
      "57/57 - 0s - 8ms/step - accuracy: 0.9605 - loss: 0.1027 - val_accuracy: 0.9113 - val_loss: 0.2157\n",
      "Epoch 12/20\n",
      "57/57 - 0s - 8ms/step - accuracy: 0.9616 - loss: 0.1051 - val_accuracy: 0.9064 - val_loss: 0.2179\n",
      "Epoch 13/20\n",
      "57/57 - 1s - 9ms/step - accuracy: 0.9627 - loss: 0.0976 - val_accuracy: 0.9064 - val_loss: 0.2035\n",
      "Epoch 14/20\n",
      "57/57 - 1s - 10ms/step - accuracy: 0.9720 - loss: 0.0798 - val_accuracy: 0.8867 - val_loss: 0.2257\n",
      "Epoch 15/20\n",
      "57/57 - 1s - 13ms/step - accuracy: 0.9649 - loss: 0.0847 - val_accuracy: 0.9064 - val_loss: 0.2438\n",
      "Epoch 16/20\n",
      "57/57 - 1s - 9ms/step - accuracy: 0.9725 - loss: 0.0721 - val_accuracy: 0.8916 - val_loss: 0.2286\n",
      "Epoch 17/20\n",
      "57/57 - 1s - 12ms/step - accuracy: 0.9725 - loss: 0.0665 - val_accuracy: 0.9015 - val_loss: 0.2148\n",
      "Epoch 18/20\n",
      "57/57 - 1s - 14ms/step - accuracy: 0.9753 - loss: 0.0668 - val_accuracy: 0.9015 - val_loss: 0.1995\n",
      "Epoch 19/20\n",
      "57/57 - 1s - 9ms/step - accuracy: 0.9802 - loss: 0.0520 - val_accuracy: 0.8966 - val_loss: 0.2130\n",
      "Epoch 20/20\n",
      "57/57 - 0s - 8ms/step - accuracy: 0.9753 - loss: 0.0555 - val_accuracy: 0.9113 - val_loss: 0.2142\n",
      "\u001b[1m16/16\u001b[0m \u001b[32m━━━━━━━━━━━━━━━━━━━━\u001b[0m\u001b[37m\u001b[0m \u001b[1m0s\u001b[0m 5ms/step\n",
      "CNN Accuracy: 0.9466403162055336\n",
      "              precision    recall  f1-score   support\n",
      "\n",
      "       Angry       0.92      0.88      0.90       101\n",
      "       Happy       0.95      0.99      0.97       102\n",
      "         Poo       1.00      1.00      1.00       101\n",
      "         Sad       0.87      0.89      0.88       101\n",
      "   Surprised       0.99      0.97      0.98       101\n",
      "\n",
      "    accuracy                           0.95       506\n",
      "   macro avg       0.95      0.95      0.95       506\n",
      "weighted avg       0.95      0.95      0.95       506\n",
      "\n"
     ]
    }
   ],
   "source": [
    "# Preparar datos para CNN\n",
    "X_train_cnn = X_train[..., np.newaxis]  # (N, 32, 32, 1)\n",
    "X_test_cnn = X_test[..., np.newaxis]\n",
    "\n",
    "cnn = Sequential([\n",
    "    Conv2D(32, (3,3), activation='relu', input_shape=(32,32,1)),\n",
    "    MaxPooling2D((2,2)),\n",
    "    Conv2D(64, (3,3), activation='relu'),\n",
    "    MaxPooling2D((2,2)),\n",
    "    Flatten(),\n",
    "    Dense(64, activation='relu'),\n",
    "    Dropout(0.3),\n",
    "    Dense(y_train_cat.shape[1], activation='softmax')\n",
    "])\n",
    "cnn.compile(optimizer='adam', loss='categorical_crossentropy', metrics=['accuracy'])\n",
    "cnn.fit(X_train_cnn, y_train_cat, epochs=20, batch_size=32, validation_split=0.1, verbose=2)\n",
    "\n",
    "y_pred_cnn = np.argmax(cnn.predict(X_test_cnn), axis=1)\n",
    "print('CNN Accuracy:', accuracy_score(y_test_idx, y_pred_cnn))\n",
    "print(classification_report(y_test_idx, y_pred_cnn, target_names=classes))"
   ]
  }
 ],
 "metadata": {
  "kernelspec": {
   "display_name": "Python 3",
   "language": "python",
   "name": "python3"
  },
  "language_info": {
   "codemirror_mode": {
    "name": "ipython",
    "version": 3
   },
   "file_extension": ".py",
   "mimetype": "text/x-python",
   "name": "python",
   "nbconvert_exporter": "python",
   "pygments_lexer": "ipython3",
   "version": "3.13.7"
  }
 },
 "nbformat": 4,
 "nbformat_minor": 5
}
